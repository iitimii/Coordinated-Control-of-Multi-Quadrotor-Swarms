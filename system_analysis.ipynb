{
 "cells": [
  {
   "cell_type": "code",
   "execution_count": 1,
   "metadata": {},
   "outputs": [],
   "source": [
    "import control as ct\n",
    "import numpy as np"
   ]
  },
  {
   "cell_type": "code",
   "execution_count": 28,
   "metadata": {},
   "outputs": [],
   "source": [
    "g = 9.8\n",
    "mass = 0.027\n",
    "l = 0.0397\n",
    "Ixx=1.4e-5\n",
    "Iyy=1.4e-5 \n",
    "Izz=2.17e-5\n",
    "\n",
    "phi=0\n",
    "theta=0\n",
    "psi=0\n",
    "u=0\n",
    "v=0\n",
    "w=0\n",
    "p=0\n",
    "q=0\n",
    "r=0\n",
    "        \n",
    "\n",
    "A = np.array([[0, 0, 0, v*theta+w*psi, v*phi+w, -v+w*phi, 1, theta*phi-psi, theta+psi*phi, 0, 0, 0], #x\n",
    "                [0, 0, 0, v*psi*theta-w, v*psi*phi+w*psi, u+v*theta*phi+w*theta, psi, psi*theta*phi+1, psi*theta-phi, 0, 0, 0], #y\n",
    "                [0, 0, 0, v, -u, 0, -theta, phi, 1, 0, 0, 0], #z\n",
    "                [0, 0, 0, q*theta, q*phi+r, 0, 0, 0, 0, 1, phi*theta, theta], #phi\n",
    "                [0, 0, 0, -r, 0, 0, 0, 0, 0, 0, 1, -phi], #theta\n",
    "                [0, 0, 0, q, 0, 0, 0, 0, 0, 0, phi, 1], #psi\n",
    "                [0, 0, 0, 0, g, 0, 0, r, -q, 0, -w, v], #u\n",
    "                [0, 0, 0, -g, 0, 0, -r, 0, p, w, 0, -u], #v\n",
    "                [0, 0, 0, 0, 0, 0, q, -p, 0, -v, u, 0], #w\n",
    "                [0, 0, 0, 0, 0, 0, 0, 0, 0, 0, r*(Iyy-Izz)/Ixx, q*(Iyy-Izz)/Ixx], #p\n",
    "                [0, 0, 0, 0, 0, 0, 0, 0, 0, r*(Izz-Ixx)/Iyy, 0, p*(Izz-Ixx)/Iyy], #q\n",
    "                [0, 0, 0, 0, 0, 0, 0, 0, 0, q*(Ixx-Iyy)/Izz, p*(Ixx-Iyy)/Izz, 0]]) #r\n",
    "        \n",
    "        \n",
    "B = np.array([[0, 0, 0, 0],\n",
    "                [0, 0, 0, 0],\n",
    "                [0, 0, 0, 0],\n",
    "                [0, 0, 0, 0],\n",
    "                [0, 0, 0, 0],\n",
    "                [0, 0, 0, 0],\n",
    "                [0, 0, 0, 0],\n",
    "                [0, 0, 0, 0],\n",
    "                [1/mass, 0, 0, 0],\n",
    "                [0, 1/Ixx, 0, 0],\n",
    "                [0, 0, 1/Iyy, 0],\n",
    "                [0, 0, 0, 1/Izz]])\n",
    "\n",
    "C = np.eye(12)\n",
    "D = np.zeros((12,4))\n",
    "\n",
    "quadrotor_model = ct.ss(A, B, C, D)"
   ]
  },
  {
   "cell_type": "code",
   "execution_count": 56,
   "metadata": {},
   "outputs": [
    {
     "data": {
      "text/plain": [
       "array([0.        , 0.        , 0.        , 0.        , 0.        ,\n",
       "       3.16227766, 0.        , 0.        , 0.        , 0.        ,\n",
       "       0.        , 0.10068388])"
      ]
     },
     "execution_count": 56,
     "metadata": {},
     "output_type": "execute_result"
    }
   ],
   "source": [
    "Q = np.diag([1000, 1000, 1000, 10, 10, 100, 50, 50, 100, 0.1, 0.1, 0.1])\n",
    "#x, y, z, phi, theta, psi, u, v, w, p, q, r\n",
    "R = np.diag([10, 10, 10, 10])\n",
    "#Thrust, Mx, My, Mz\n",
    "\n",
    "K, S, E = ct.lqr(quadrotor_model, Q, R)\n",
    "K[K < 1e-6] = 0\n",
    "K[3]"
   ]
  },
  {
   "cell_type": "code",
   "execution_count": null,
   "metadata": {},
   "outputs": [],
   "source": [
    "K = [[0, 0, 1, 0, 0, 0, 0, 0, 1, 0, 0, 0],\n",
    "     [0, -1, 0, 1, 0, 0, 0, -1, 0, 1, 0, 0], #Mx roll\n",
    "     [1, 0, 0, 0, 1, 0, 1, 0, 0, 0, 1, 0], #My pitch\n",
    "     [0, 0, 0, 0, 0, 1, 0, 0, 0, 0, 0, 1]] "
   ]
  },
  {
   "cell_type": "code",
   "execution_count": 49,
   "metadata": {},
   "outputs": [
    {
     "data": {
      "text/plain": [
       "array([-7.1428501e+03+0.j      , -1.1291620e+01+9.373105j,\n",
       "       -1.1291620e+01-9.373105j, -4.5506139e+00+0.j      ,\n",
       "       -1.1707867e+02+0.j      , -3.1634319e+00+0.j      ,\n",
       "       -7.1428501e+03+0.j      , -4.6081865e+03+0.j      ,\n",
       "       -1.1291619e+01+9.373105j, -1.1291619e+01-9.373105j,\n",
       "       -4.5506139e+00+0.j      , -3.1623522e+01+0.j      ],\n",
       "      dtype=complex64)"
      ]
     },
     "execution_count": 49,
     "metadata": {},
     "output_type": "execute_result"
    }
   ],
   "source": [
    "E"
   ]
  },
  {
   "cell_type": "code",
   "execution_count": null,
   "metadata": {},
   "outputs": [],
   "source": []
  },
  {
   "cell_type": "markdown",
   "metadata": {},
   "source": [
    "## Controllability"
   ]
  },
  {
   "cell_type": "code",
   "execution_count": 9,
   "metadata": {},
   "outputs": [
    {
     "name": "stdout",
     "output_type": "stream",
     "text": [
      "rank: 12\n"
     ]
    }
   ],
   "source": [
    "C_Matrix = ct.ctrb(A, B)\n",
    "C_rank = np.linalg.matrix_rank(C_Matrix)\n",
    "print(f\"rank: {C_rank}\")\n",
    "# Controlability Gramian"
   ]
  },
  {
   "cell_type": "markdown",
   "metadata": {},
   "source": [
    "## Observability"
   ]
  },
  {
   "cell_type": "code",
   "execution_count": 13,
   "metadata": {},
   "outputs": [
    {
     "name": "stdout",
     "output_type": "stream",
     "text": [
      "rank: 12\n"
     ]
    }
   ],
   "source": [
    "O_Matrix = ct.obsv(A, C)\n",
    "O_rank = np.linalg.matrix_rank(O_Matrix)\n",
    "print(f\"rank: {O_rank}\")"
   ]
  },
  {
   "cell_type": "markdown",
   "metadata": {},
   "source": [
    "## Controller Design"
   ]
  },
  {
   "cell_type": "code",
   "execution_count": null,
   "metadata": {},
   "outputs": [],
   "source": [
    "K, S, E = ct.lqr(quad_linear_model, Q, R, N)"
   ]
  },
  {
   "cell_type": "markdown",
   "metadata": {},
   "source": [
    "## Trajectory Analysis"
   ]
  },
  {
   "cell_type": "markdown",
   "metadata": {},
   "source": [
    "## Multi-Agent System Analysis"
   ]
  },
  {
   "cell_type": "code",
   "execution_count": null,
   "metadata": {},
   "outputs": [],
   "source": [
    "ct.lyap()"
   ]
  },
  {
   "cell_type": "code",
   "execution_count": 6,
   "metadata": {},
   "outputs": [],
   "source": [
    "import numpy as np\n",
    "phi = 0\n",
    "\n",
    "g = 9.8\n",
    "m = 0.27\n",
    "Ixx = 2e-5\n",
    "Iyy = 2e-5\n",
    "Izz = 5e-5\n",
    "l = 1\n",
    "Ka = 1e-9\n",
    "Km = 1e-7\n",
    "\n",
    "a_sub = np.array([[0, 0, 0, g*np.sin(phi), g*np.cos(phi), 0],\n",
    "                    [0, 0, 0, -g*np.cos(phi), g*np.sin(phi), 0]])\n",
    "a_sub = np.vstack((a_sub, np.zeros((4, 6))))\n",
    "\n",
    "\n",
    "A = np.block([[np.zeros((6,6)), np.eye(6)],\n",
    "                [a_sub, np.zeros((6,6))]])\n",
    "\n",
    "b_sub = np.array([[Ka/m, Ka/m, Ka/m, Ka/m],\n",
    "                    [0, -Ka*l/Ixx, 0, Ka*l/Ixx],\n",
    "                    [Ka*l/Iyy, 0, -Ka*l/Iyy, 0],\n",
    "                    [Km/Izz, -Km/Izz, Km/Izz, -Km/Izz]])\n",
    "\n",
    "B = np.vstack((np.zeros((8, 4)), b_sub))\n",
    "\n",
    "C = np.array([[1, 0, 0, 0, 0, 0, 0, 0, 0, 0, 0, 0],\n",
    "                [0, 1, 0, 0, 0, 0, 0, 0, 0, 0, 0, 0],\n",
    "                [0, 0, 1, 0, 0, 0, 0, 0, 0, 0, 0, 0],\n",
    "                [0, 0, 0, 0, 0, 0, 1, 0, 0, 0, 0, 0]])\n"
   ]
  },
  {
   "cell_type": "code",
   "execution_count": 7,
   "metadata": {},
   "outputs": [
    {
     "data": {
      "text/plain": [
       "((12, 12), (12, 4))"
      ]
     },
     "execution_count": 7,
     "metadata": {},
     "output_type": "execute_result"
    }
   ],
   "source": [
    "A.shape, B.shape"
   ]
  },
  {
   "cell_type": "code",
   "execution_count": null,
   "metadata": {},
   "outputs": [],
   "source": []
  },
  {
   "cell_type": "markdown",
   "metadata": {},
   "source": [
    "## Lyapunov Stability"
   ]
  },
  {
   "cell_type": "markdown",
   "metadata": {},
   "source": []
  }
 ],
 "metadata": {
  "kernelspec": {
   "display_name": "ai",
   "language": "python",
   "name": "python3"
  },
  "language_info": {
   "codemirror_mode": {
    "name": "ipython",
    "version": 3
   },
   "file_extension": ".py",
   "mimetype": "text/x-python",
   "name": "python",
   "nbconvert_exporter": "python",
   "pygments_lexer": "ipython3",
   "version": "3.12.8"
  }
 },
 "nbformat": 4,
 "nbformat_minor": 2
}
