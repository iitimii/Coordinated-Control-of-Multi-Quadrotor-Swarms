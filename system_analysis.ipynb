{
 "cells": [
  {
   "cell_type": "code",
   "execution_count": 1,
   "metadata": {},
   "outputs": [],
   "source": [
    "import control as ct\n",
    "import numpy as np"
   ]
  },
  {
   "cell_type": "code",
   "execution_count": 2,
   "metadata": {},
   "outputs": [],
   "source": [
    "g = 9.8\n",
    "mass = 0.027\n",
    "l = 0.0397\n",
    "Ixx=1.4e-5\n",
    "Iyy=1.4e-5 \n",
    "Izz=2.17e-5\n",
    "\n",
    "phi=0\n",
    "theta=0\n",
    "psi=0\n",
    "u=0\n",
    "v=0\n",
    "w=0\n",
    "p=0\n",
    "q=0\n",
    "r=0\n",
    "        \n",
    "\n",
    "A = np.array([[0, 0, 0, v*theta+w*psi, v*phi+w, -v+w*phi, 1, theta*phi-psi, theta+psi*phi, 0, 0, 0], #x\n",
    "                [0, 0, 0, v*psi*theta-w, v*psi*phi+w*psi, u+v*theta*phi+w*theta, psi, psi*theta*phi+1, psi*theta-phi, 0, 0, 0], #y\n",
    "                [0, 0, 0, v, -u, 0, -theta, phi, 1, 0, 0, 0], #z\n",
    "                [0, 0, 0, q*theta, q*phi+r, 0, 0, 0, 0, 1, phi*theta, theta], #phi\n",
    "                [0, 0, 0, -r, 0, 0, 0, 0, 0, 0, 1, -phi], #theta\n",
    "                [0, 0, 0, q, 0, 0, 0, 0, 0, 0, phi, 1], #psi\n",
    "                [0, 0, 0, 0, g, 0, 0, r, -q, 0, -w, v], #u\n",
    "                [0, 0, 0, -g, 0, 0, -r, 0, p, w, 0, -u], #v\n",
    "                [0, 0, 0, 0, 0, 0, q, -p, 0, -v, u, 0], #w\n",
    "                [0, 0, 0, 0, 0, 0, 0, 0, 0, 0, r*(Iyy-Izz)/Ixx, q*(Iyy-Izz)/Ixx], #p\n",
    "                [0, 0, 0, 0, 0, 0, 0, 0, 0, r*(Izz-Ixx)/Iyy, 0, p*(Izz-Ixx)/Iyy], #q\n",
    "                [0, 0, 0, 0, 0, 0, 0, 0, 0, q*(Ixx-Iyy)/Izz, p*(Ixx-Iyy)/Izz, 0]]) #r\n",
    "        \n",
    "        \n",
    "B = np.array([[0, 0, 0, 0],\n",
    "                [0, 0, 0, 0],\n",
    "                [0, 0, 0, 0],\n",
    "                [0, 0, 0, 0],\n",
    "                [0, 0, 0, 0],\n",
    "                [0, 0, 0, 0],\n",
    "                [0, 0, 0, 0],\n",
    "                [0, 0, 0, 0],\n",
    "                [1/mass, 0, 0, 0],\n",
    "                [0, 1/Ixx, 0, 0],\n",
    "                [0, 0, 1/Iyy, 0],\n",
    "                [0, 0, 0, 1/Izz]])\n",
    "\n",
    "C = np.eye(12)\n",
    "D = np.zeros((12,4))\n",
    "\n",
    "quadrotor_model = ct.ss(A, B, C, D)"
   ]
  },
  {
   "cell_type": "code",
   "execution_count": 3,
   "metadata": {},
   "outputs": [
    {
     "data": {
      "text/plain": [
       "array([0.        , 0.        , 0.        , 0.        , 0.        ,\n",
       "       3.16227766, 0.        , 0.        , 0.        , 0.        ,\n",
       "       0.        , 0.10068388])"
      ]
     },
     "execution_count": 3,
     "metadata": {},
     "output_type": "execute_result"
    }
   ],
   "source": [
    "Q = np.diag([1000, 1000, 1000, 10, 10, 100, 50, 50, 100, 0.1, 0.1, 0.1])\n",
    "#x, y, z, phi, theta, psi, u, v, w, p, q, r\n",
    "R = np.diag([10, 10, 10, 10])\n",
    "#Thrust, Mx, My, Mz\n",
    "\n",
    "K, S, E = ct.lqr(quadrotor_model, Q, R)\n",
    "K[K < 1e-6] = 0\n",
    "K[3]"
   ]
  },
  {
   "cell_type": "code",
   "execution_count": 4,
   "metadata": {},
   "outputs": [],
   "source": [
    "K = [[0, 0, 1, 0, 0, 0, 0, 0, 1, 0, 0, 0],\n",
    "     [0, -1, 0, 1, 0, 0, 0, -1, 0, 1, 0, 0], #Mx roll\n",
    "     [1, 0, 0, 0, 1, 0, 1, 0, 0, 0, 1, 0], #My pitch\n",
    "     [0, 0, 0, 0, 0, 1, 0, 0, 0, 0, 0, 1]] "
   ]
  },
  {
   "cell_type": "code",
   "execution_count": 5,
   "metadata": {},
   "outputs": [
    {
     "data": {
      "text/plain": [
       "array([-7.1428501e+03+0.j      , -1.1291620e+01+9.373105j,\n",
       "       -1.1291620e+01-9.373105j, -4.5506139e+00+0.j      ,\n",
       "       -1.1707867e+02+0.j      , -3.1634319e+00+0.j      ,\n",
       "       -7.1428501e+03+0.j      , -4.6081865e+03+0.j      ,\n",
       "       -1.1291619e+01+9.373105j, -1.1291619e+01-9.373105j,\n",
       "       -4.5506139e+00+0.j      , -3.1623522e+01+0.j      ],\n",
       "      dtype=complex64)"
      ]
     },
     "execution_count": 5,
     "metadata": {},
     "output_type": "execute_result"
    }
   ],
   "source": [
    "E"
   ]
  },
  {
   "cell_type": "markdown",
   "metadata": {},
   "source": [
    "## Controllability"
   ]
  },
  {
   "cell_type": "code",
   "execution_count": 6,
   "metadata": {},
   "outputs": [
    {
     "name": "stdout",
     "output_type": "stream",
     "text": [
      "rank: 12\n"
     ]
    }
   ],
   "source": [
    "C_Matrix = ct.ctrb(A, B)\n",
    "C_rank = np.linalg.matrix_rank(C_Matrix)\n",
    "print(f\"rank: {C_rank}\")\n",
    "# Controlability Gramian"
   ]
  },
  {
   "cell_type": "markdown",
   "metadata": {},
   "source": [
    "## Observability"
   ]
  },
  {
   "cell_type": "code",
   "execution_count": 7,
   "metadata": {},
   "outputs": [
    {
     "name": "stdout",
     "output_type": "stream",
     "text": [
      "rank: 12\n"
     ]
    }
   ],
   "source": [
    "O_Matrix = ct.obsv(A, C)\n",
    "O_rank = np.linalg.matrix_rank(O_Matrix)\n",
    "print(f\"rank: {O_rank}\")"
   ]
  },
  {
   "cell_type": "markdown",
   "metadata": {},
   "source": [
    "## Controller Design"
   ]
  },
  {
   "cell_type": "code",
   "execution_count": 8,
   "metadata": {},
   "outputs": [
    {
     "ename": "NameError",
     "evalue": "name 'quad_linear_model' is not defined",
     "output_type": "error",
     "traceback": [
      "\u001b[0;31m---------------------------------------------------------------------------\u001b[0m",
      "\u001b[0;31mNameError\u001b[0m                                 Traceback (most recent call last)",
      "Cell \u001b[0;32mIn[8], line 1\u001b[0m\n\u001b[0;32m----> 1\u001b[0m K, S, E \u001b[38;5;241m=\u001b[39m ct\u001b[38;5;241m.\u001b[39mlqr(\u001b[43mquad_linear_model\u001b[49m, Q, R, N)\n",
      "\u001b[0;31mNameError\u001b[0m: name 'quad_linear_model' is not defined"
     ]
    }
   ],
   "source": [
    "K, S, E = ct.lqr(quad_linear_model, Q, R, N)"
   ]
  },
  {
   "cell_type": "markdown",
   "metadata": {},
   "source": [
    "## Trajectory Analysis"
   ]
  },
  {
   "cell_type": "markdown",
   "metadata": {},
   "source": [
    "## Multi-Agent System Analysis"
   ]
  },
  {
   "cell_type": "code",
   "execution_count": 9,
   "metadata": {},
   "outputs": [
    {
     "name": "stdout",
     "output_type": "stream",
     "text": [
      "rank: 12\n"
     ]
    }
   ],
   "source": [
    "import numpy as np\n",
    "phi = 0\n",
    "\n",
    "g = 9.8\n",
    "m = 0.27\n",
    "Ixx = 2e-5\n",
    "Iyy = 2e-5\n",
    "Izz = 5e-5\n",
    "l = 1\n",
    "Ka = 1e-9\n",
    "Km = 1e-7\n",
    "\n",
    "a_sub = np.array([[0, 0, 0, g*np.sin(phi), g*np.cos(phi), 0],\n",
    "                    [0, 0, 0, -g*np.cos(phi), g*np.sin(phi), 0]])\n",
    "a_sub = np.vstack((a_sub, np.zeros((4, 6))))\n",
    "\n",
    "\n",
    "A = np.block([[np.zeros((6,6)), np.eye(6)],\n",
    "                [a_sub, np.zeros((6,6))]])\n",
    "\n",
    "b_sub = np.array([[Ka/m, Ka/m, Ka/m, Ka/m],\n",
    "                    [0, -Ka*l/Ixx, 0, Ka*l/Ixx],\n",
    "                    [Ka*l/Iyy, 0, -Ka*l/Iyy, 0],\n",
    "                    [Km/Izz, -Km/Izz, Km/Izz, -Km/Izz]])\n",
    "\n",
    "b_sub = np.array([[1/m, 0, 0, 0],\n",
    "                          [0, 1/Ixx, 0, 0],\n",
    "                          [0, 0, 1/Iyy, 0],\n",
    "                          [0, 0, 0, 1/Izz]]) \n",
    "\n",
    "B = np.vstack((np.zeros((8, 4)), b_sub))\n",
    "\n",
    "C = np.array([[1, 0, 0, 0, 0, 0, 0, 0, 0, 0, 0, 0],\n",
    "                [0, 1, 0, 0, 0, 0, 0, 0, 0, 0, 0, 0],\n",
    "                [0, 0, 1, 0, 0, 0, 0, 0, 0, 0, 0, 0],\n",
    "                [0, 0, 0, 0, 0, 0, 1, 0, 0, 0, 0, 0]])\n",
    "\n",
    "ctrb_matrix = ct.ctrb(A, B)\n",
    "ctrb_rank = np.linalg.matrix_rank(ctrb_matrix)\n",
    "print(f\"rank: {ctrb_rank}\")\n",
    "# determiant = np.linalg.det(ctrb_matrix)\n",
    "# print(f\"determinant: {determiant}\")\n"
   ]
  },
  {
   "cell_type": "code",
   "execution_count": 10,
   "metadata": {},
   "outputs": [
    {
     "data": {
      "text/plain": [
       "((12, 12), (12, 4), (12, 48))"
      ]
     },
     "execution_count": 10,
     "metadata": {},
     "output_type": "execute_result"
    }
   ],
   "source": [
    "A.shape, B.shape, ctrb_matrix.shape"
   ]
  },
  {
   "cell_type": "code",
   "execution_count": 22,
   "metadata": {},
   "outputs": [
    {
     "data": {
      "text/plain": [
       "array([ 0. ,  0. ,  0. ,  0. , 19.6,  0. ,  1. ,  0. ,  0. ,  0. , 19.6,\n",
       "        0. ])"
      ]
     },
     "execution_count": 22,
     "metadata": {},
     "output_type": "execute_result"
    }
   ],
   "source": [
    "from scipy.linalg import expm\n",
    "\n",
    "dt = 0.004\n",
    "dt = 2\n",
    "expm(A*dt)[6]"
   ]
  },
  {
   "cell_type": "code",
   "execution_count": null,
   "metadata": {},
   "outputs": [],
   "source": []
  },
  {
   "cell_type": "markdown",
   "metadata": {},
   "source": [
    "## Lyapunov Stability"
   ]
  },
  {
   "cell_type": "markdown",
   "metadata": {},
   "source": []
  },
  {
   "cell_type": "code",
   "execution_count": 11,
   "metadata": {},
   "outputs": [],
   "source": [
    "# TODO Check if the K matrix sends delta K to zero\n",
    "# simulate the closed loop response of delta_dX = (A - B*K)* delta_X\n",
    "desired_poles = -np.linspace(1, 12, 12)\n",
    "K = ct.place(A, B, desired_poles)\n",
    "\n",
    "A_new = A - B @ K"
   ]
  },
  {
   "cell_type": "code",
   "execution_count": null,
   "metadata": {},
   "outputs": [
    {
     "data": {
      "text/plain": [
       "array([-12., -11.,  -1.,  -2.,  -3., -10.,  -8.,  -9.,  -7.,  -4.,  -6.,\n",
       "        -5.])"
      ]
     },
     "execution_count": 5,
     "metadata": {},
     "output_type": "execute_result"
    }
   ],
   "source": [
    "# Check if X goes to zero\n",
    "eigenvalues, eigenvectors = np.linalg.eig(A_new)\n",
    "eigenvalues"
   ]
  },
  {
   "cell_type": "code",
   "execution_count": 4,
   "metadata": {},
   "outputs": [
    {
     "ename": "ValueError",
     "evalue": "The poles you've chosen can't be placed. Check the controllability matrix and try another set of poles",
     "output_type": "error",
     "traceback": [
      "\u001b[0;31m---------------------------------------------------------------------------\u001b[0m",
      "\u001b[0;31mLinAlgError\u001b[0m                               Traceback (most recent call last)",
      "File \u001b[0;32m~/miniforge3/envs/ai/lib/python3.12/site-packages/scipy/signal/_ltisys.py:3010\u001b[0m, in \u001b[0;36mplace_poles\u001b[0;34m(A, B, poles, method, rtol, maxiter)\u001b[0m\n\u001b[1;32m   3008\u001b[0m     m \u001b[38;5;241m=\u001b[39m np\u001b[38;5;241m.\u001b[39mlinalg\u001b[38;5;241m.\u001b[39msolve(transfer_matrix\u001b[38;5;241m.\u001b[39mT, np\u001b[38;5;241m.\u001b[39mdot(np\u001b[38;5;241m.\u001b[39mdiag(poles),\n\u001b[1;32m   3009\u001b[0m                                                   transfer_matrix\u001b[38;5;241m.\u001b[39mT))\u001b[38;5;241m.\u001b[39mT\n\u001b[0;32m-> 3010\u001b[0m     gain_matrix \u001b[38;5;241m=\u001b[39m \u001b[43mnp\u001b[49m\u001b[38;5;241;43m.\u001b[39;49m\u001b[43mlinalg\u001b[49m\u001b[38;5;241;43m.\u001b[39;49m\u001b[43msolve\u001b[49m\u001b[43m(\u001b[49m\u001b[43mz\u001b[49m\u001b[43m,\u001b[49m\u001b[43m \u001b[49m\u001b[43mnp\u001b[49m\u001b[38;5;241;43m.\u001b[39;49m\u001b[43mdot\u001b[49m\u001b[43m(\u001b[49m\u001b[43mu0\u001b[49m\u001b[38;5;241;43m.\u001b[39;49m\u001b[43mT\u001b[49m\u001b[43m,\u001b[49m\u001b[43m \u001b[49m\u001b[43mm\u001b[49m\u001b[38;5;241;43m-\u001b[39;49m\u001b[43mA\u001b[49m\u001b[43m)\u001b[49m\u001b[43m)\u001b[49m\n\u001b[1;32m   3011\u001b[0m \u001b[38;5;28;01mexcept\u001b[39;00m np\u001b[38;5;241m.\u001b[39mlinalg\u001b[38;5;241m.\u001b[39mLinAlgError \u001b[38;5;28;01mas\u001b[39;00m e:\n",
      "File \u001b[0;32m~/miniforge3/envs/ai/lib/python3.12/site-packages/numpy/linalg/linalg.py:396\u001b[0m, in \u001b[0;36msolve\u001b[0;34m(a, b)\u001b[0m\n\u001b[1;32m    395\u001b[0m _assert_stacked_2d(a)\n\u001b[0;32m--> 396\u001b[0m \u001b[43m_assert_stacked_square\u001b[49m\u001b[43m(\u001b[49m\u001b[43ma\u001b[49m\u001b[43m)\u001b[49m\n\u001b[1;32m    397\u001b[0m b, wrap \u001b[38;5;241m=\u001b[39m _makearray(b)\n",
      "File \u001b[0;32m~/miniforge3/envs/ai/lib/python3.12/site-packages/numpy/linalg/linalg.py:213\u001b[0m, in \u001b[0;36m_assert_stacked_square\u001b[0;34m(*arrays)\u001b[0m\n\u001b[1;32m    212\u001b[0m \u001b[38;5;28;01mif\u001b[39;00m m \u001b[38;5;241m!=\u001b[39m n:\n\u001b[0;32m--> 213\u001b[0m     \u001b[38;5;28;01mraise\u001b[39;00m LinAlgError(\u001b[38;5;124m'\u001b[39m\u001b[38;5;124mLast 2 dimensions of the array must be square\u001b[39m\u001b[38;5;124m'\u001b[39m)\n",
      "\u001b[0;31mLinAlgError\u001b[0m: Last 2 dimensions of the array must be square",
      "\nThe above exception was the direct cause of the following exception:\n",
      "\u001b[0;31mValueError\u001b[0m                                Traceback (most recent call last)",
      "Cell \u001b[0;32mIn[4], line 24\u001b[0m\n\u001b[1;32m     19\u001b[0m B_ref \u001b[38;5;241m=\u001b[39m np\u001b[38;5;241m.\u001b[39mblock([[np\u001b[38;5;241m.\u001b[39mzeros((\u001b[38;5;241m3\u001b[39m,\u001b[38;5;241m4\u001b[39m))],\n\u001b[1;32m     20\u001b[0m                     [b_sub]])\n\u001b[1;32m     23\u001b[0m desired_poles \u001b[38;5;241m=\u001b[39m np\u001b[38;5;241m.\u001b[39marray([\u001b[38;5;241m-\u001b[39m\u001b[38;5;241m1\u001b[39m, \u001b[38;5;241m-\u001b[39m\u001b[38;5;241m2\u001b[39m, \u001b[38;5;241m-\u001b[39m\u001b[38;5;241m3\u001b[39m, \u001b[38;5;241m-\u001b[39m\u001b[38;5;241m4\u001b[39m, \u001b[38;5;241m-\u001b[39m\u001b[38;5;241m5\u001b[39m, \u001b[38;5;241m-\u001b[39m\u001b[38;5;241m6\u001b[39m]) \u001b[38;5;241m/\u001b[39m \u001b[38;5;241m1000\u001b[39m\n\u001b[0;32m---> 24\u001b[0m K_ref \u001b[38;5;241m=\u001b[39m \u001b[43mct\u001b[49m\u001b[38;5;241;43m.\u001b[39;49m\u001b[43mplace\u001b[49m\u001b[43m(\u001b[49m\u001b[43mA_ref\u001b[49m\u001b[43m,\u001b[49m\u001b[43m \u001b[49m\u001b[43mB_ref\u001b[49m\u001b[43m,\u001b[49m\u001b[43m \u001b[49m\u001b[43mdesired_poles\u001b[49m\u001b[43m)\u001b[49m\n\u001b[1;32m     26\u001b[0m \u001b[38;5;66;03m# K, P, E = ct.lqr(A_ref, B_ref, np.eye(6), np.eye(4))\u001b[39;00m\n\u001b[1;32m     27\u001b[0m \u001b[38;5;66;03m# ctrb_m = ct.ctrb(A_ref, B_ref)\u001b[39;00m\n\u001b[1;32m     28\u001b[0m \u001b[38;5;66;03m# rank = np.linalg.matrix_rank(ctrb_m)\u001b[39;00m\n\u001b[0;32m   (...)\u001b[0m\n\u001b[1;32m     31\u001b[0m \u001b[38;5;66;03m# determinant = np.linalg.det(ctrb_m)\u001b[39;00m\n\u001b[1;32m     32\u001b[0m \u001b[38;5;66;03m# print(f\"determinant: {determinant}\")\u001b[39;00m\n\u001b[1;32m     34\u001b[0m B_ref\n",
      "File \u001b[0;32m~/miniforge3/envs/ai/lib/python3.12/site-packages/control/statefbk.py:144\u001b[0m, in \u001b[0;36mplace\u001b[0;34m(A, B, p)\u001b[0m\n\u001b[1;32m    141\u001b[0m \u001b[38;5;66;03m# Convert desired poles to numpy array\u001b[39;00m\n\u001b[1;32m    142\u001b[0m placed_eigs \u001b[38;5;241m=\u001b[39m np\u001b[38;5;241m.\u001b[39matleast_1d(np\u001b[38;5;241m.\u001b[39msqueeze(np\u001b[38;5;241m.\u001b[39masarray(p)))\n\u001b[0;32m--> 144\u001b[0m result \u001b[38;5;241m=\u001b[39m \u001b[43mplace_poles\u001b[49m\u001b[43m(\u001b[49m\u001b[43mA_mat\u001b[49m\u001b[43m,\u001b[49m\u001b[43m \u001b[49m\u001b[43mB_mat\u001b[49m\u001b[43m,\u001b[49m\u001b[43m \u001b[49m\u001b[43mplaced_eigs\u001b[49m\u001b[43m,\u001b[49m\u001b[43m \u001b[49m\u001b[43mmethod\u001b[49m\u001b[38;5;241;43m=\u001b[39;49m\u001b[38;5;124;43m'\u001b[39;49m\u001b[38;5;124;43mYT\u001b[39;49m\u001b[38;5;124;43m'\u001b[39;49m\u001b[43m)\u001b[49m\n\u001b[1;32m    145\u001b[0m K \u001b[38;5;241m=\u001b[39m result\u001b[38;5;241m.\u001b[39mgain_matrix\n\u001b[1;32m    146\u001b[0m \u001b[38;5;28;01mreturn\u001b[39;00m _ssmatrix(K)\n",
      "File \u001b[0;32m~/miniforge3/envs/ai/lib/python3.12/site-packages/scipy/signal/_ltisys.py:3012\u001b[0m, in \u001b[0;36mplace_poles\u001b[0;34m(A, B, poles, method, rtol, maxiter)\u001b[0m\n\u001b[1;32m   3010\u001b[0m         gain_matrix \u001b[38;5;241m=\u001b[39m np\u001b[38;5;241m.\u001b[39mlinalg\u001b[38;5;241m.\u001b[39msolve(z, np\u001b[38;5;241m.\u001b[39mdot(u0\u001b[38;5;241m.\u001b[39mT, m\u001b[38;5;241m-\u001b[39mA))\n\u001b[1;32m   3011\u001b[0m     \u001b[38;5;28;01mexcept\u001b[39;00m np\u001b[38;5;241m.\u001b[39mlinalg\u001b[38;5;241m.\u001b[39mLinAlgError \u001b[38;5;28;01mas\u001b[39;00m e:\n\u001b[0;32m-> 3012\u001b[0m         \u001b[38;5;28;01mraise\u001b[39;00m \u001b[38;5;167;01mValueError\u001b[39;00m(\u001b[38;5;124m\"\u001b[39m\u001b[38;5;124mThe poles you\u001b[39m\u001b[38;5;124m'\u001b[39m\u001b[38;5;124mve chosen can\u001b[39m\u001b[38;5;124m'\u001b[39m\u001b[38;5;124mt be placed. \u001b[39m\u001b[38;5;124m\"\u001b[39m\n\u001b[1;32m   3013\u001b[0m                          \u001b[38;5;124m\"\u001b[39m\u001b[38;5;124mCheck the controllability matrix and try \u001b[39m\u001b[38;5;124m\"\u001b[39m\n\u001b[1;32m   3014\u001b[0m                          \u001b[38;5;124m\"\u001b[39m\u001b[38;5;124manother set of poles\u001b[39m\u001b[38;5;124m\"\u001b[39m) \u001b[38;5;28;01mfrom\u001b[39;00m \u001b[38;5;21;01me\u001b[39;00m\n\u001b[1;32m   3016\u001b[0m \u001b[38;5;66;03m# Beware: Kautsky solves A+BK but the usual form is A-BK\u001b[39;00m\n\u001b[1;32m   3017\u001b[0m gain_matrix \u001b[38;5;241m=\u001b[39m \u001b[38;5;241m-\u001b[39mgain_matrix\n",
      "\u001b[0;31mValueError\u001b[0m: The poles you've chosen can't be placed. Check the controllability matrix and try another set of poles"
     ]
    }
   ],
   "source": [
    "# Nonlinear MRAC\n",
    "lambda_param = 0.01\n",
    "g = 9.8\n",
    "m = 0.27\n",
    "Ixx = 2e-5\n",
    "Iyy = 2e-5\n",
    "Izz = 5e-5\n",
    "l = 1\n",
    "Ka = 1e-9\n",
    "Km = 1e-7\n",
    "\n",
    "A_ref = np.block([[np.zeros((3,3)) , np.eye(3)], \n",
    "                          [np.zeros((3,3)) , np.zeros((3,3))]])\n",
    "        \n",
    "b_sub = np.array([[-lambda_param*Ka*l/Iyy, 0, lambda_param*Ka*l/Iyy, 0],\n",
    "                    [0, -lambda_param*Ka*l/Ixx, 0, lambda_param*Ka*l/Ixx],\n",
    "                    [-Ka/m , -Ka/m, -Ka/m, -Ka/m]])\n",
    "\n",
    "B_ref = np.block([[np.zeros((3,4))],\n",
    "                    [b_sub]])\n",
    "\n",
    "\n",
    "desired_poles = np.array([-1, -2, -3, -4, -5, -6]) / 1000\n",
    "K_ref = ct.place(A_ref, B_ref, desired_poles)\n",
    "\n",
    "# K, P, E = ct.lqr(A_ref, B_ref, np.eye(6), np.eye(4))\n",
    "# ctrb_m = ct.ctrb(A_ref, B_ref)\n",
    "# rank = np.linalg.matrix_rank(ctrb_m)\n",
    "# print(f\"rank: {rank}\")\n",
    "\n",
    "# determinant = np.linalg.det(ctrb_m)\n",
    "# print(f\"determinant: {determinant}\")\n",
    "\n",
    "B_ref"
   ]
  },
  {
   "cell_type": "code",
   "execution_count": 30,
   "metadata": {},
   "outputs": [
    {
     "data": {
      "text/plain": [
       "array([[-7.07106781e-01, -2.61312874e-14, -5.00000000e-01,\n",
       "        -3.82650436e+00, -8.16282690e-14, -2.59855729e+01],\n",
       "       [ 1.50642997e-20, -7.07106781e-01, -5.00000000e-01,\n",
       "         8.44214950e-19, -3.82650436e+00, -2.59855729e+01],\n",
       "       [ 7.07106781e-01, -2.61312874e-14, -5.00000000e-01,\n",
       "         3.82650436e+00, -8.16282690e-14, -2.59855729e+01],\n",
       "       [ 1.50642997e-20,  7.07106781e-01, -5.00000000e-01,\n",
       "         8.44214950e-19,  3.82650436e+00, -2.59855729e+01]])"
      ]
     },
     "execution_count": 30,
     "metadata": {},
     "output_type": "execute_result"
    }
   ],
   "source": [
    "K"
   ]
  },
  {
   "cell_type": "code",
   "execution_count": 7,
   "metadata": {},
   "outputs": [
    {
     "data": {
      "text/plain": [
       "((6, 6), (6, 4), (6, 24))"
      ]
     },
     "execution_count": 7,
     "metadata": {},
     "output_type": "execute_result"
    }
   ],
   "source": [
    "A_ref.shape, B_ref.shape, ctrb_m.shape"
   ]
  },
  {
   "cell_type": "code",
   "execution_count": null,
   "metadata": {},
   "outputs": [],
   "source": []
  }
 ],
 "metadata": {
  "kernelspec": {
   "display_name": "ai",
   "language": "python",
   "name": "python3"
  },
  "language_info": {
   "codemirror_mode": {
    "name": "ipython",
    "version": 3
   },
   "file_extension": ".py",
   "mimetype": "text/x-python",
   "name": "python",
   "nbconvert_exporter": "python",
   "pygments_lexer": "ipython3",
   "version": "3.12.8"
  }
 },
 "nbformat": 4,
 "nbformat_minor": 2
}
